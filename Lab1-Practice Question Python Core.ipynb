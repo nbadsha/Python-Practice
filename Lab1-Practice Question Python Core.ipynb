{
 "cells": [
  {
   "cell_type": "markdown",
   "metadata": {},
   "source": [
    "### Q1: User input a string \"A\" having with length 10"
   ]
  },
  {
   "cell_type": "code",
   "execution_count": null,
   "metadata": {},
   "outputs": [],
   "source": [
    "while True:\n",
    "    status = input(\"Express your status: \")\n",
    "    if len(status)>10:\n",
    "        print(\"Sorry...try to keep your status within 10 character.\\n\")\n",
    "    else:\n",
    "        print(\"Your current status is: \",status)\n",
    "        break\n",
    "del status"
   ]
  },
  {
   "cell_type": "markdown",
   "metadata": {},
   "source": [
    "### Q2: Create script to input two numbers x and y with following instruction:\n",
    "- add when user select 1, sub on 2, mul on 3, div 4 and power on 5(give options to select x^y or y^x)\n"
   ]
  },
  {
   "cell_type": "code",
   "execution_count": null,
   "metadata": {},
   "outputs": [],
   "source": [
    "def add(x,y):\n",
    "    print(\"\\nX + Y = \",x+y)\n",
    "\n",
    "def sub(x,y):\n",
    "    print(\"\\nX - Y = \",x-y)\n",
    "\n",
    "def mul(x,y):\n",
    "    print(\"\\nX * Y = \",x*y)\n",
    "\n",
    "def div(x,y):\n",
    "    print(\"\\nX ÷ Y = \",x/y)\n",
    "\n",
    "def power(x,y):\n",
    "    print(\"\"\"\n",
    "     Calculate Exponent Here:\n",
    "       a. (X^Y) X to the Power Y\n",
    "       b. (Y^X) Y to the Power X\n",
    "   \"\"\")\n",
    "    p_choice = input()\n",
    "    \n",
    "    if p_choice == 'a':\n",
    "        print(\"(X^Y) X to the Power Y = \",x**y)\n",
    "    else:\n",
    "        print(\"(Y^X) Y to the Power X = \",y**x)\n",
    "    \n",
    "if __name__ == '__main__':\n",
    "    print(\"***Welcome to MyCalculator\\n\")\n",
    "\n",
    "    choice_instructions = \"\"\"\n",
    "    Select operation to perform:\n",
    "    1. (X + Y) Addition\n",
    "    2. (X - Y) Subtraction\n",
    "    3. (X * Y) Multiplication\n",
    "    4. (X ÷ Y) Division\n",
    "    5. Calculate Exponent\n",
    "    To close type \"exit\".\n",
    "    \"\"\"    \n",
    "    \n",
    "    fun_dic = {\n",
    "                '1': add,\n",
    "                '2': sub,\n",
    "                '3': mul,\n",
    "                '4': div,\n",
    "                '5': power\n",
    "              }\n",
    "    \n",
    "    while True:\n",
    "        x = float(input(\"Enter your 1st number (X): \")) #getting input for first number and type cast into float\n",
    "        y = float(input(\"Enter your 2nd number (Y): \")) #getting input for second number and type cast into float\n",
    "        \n",
    "        print(choice_instructions) #Diplaying choice instruction\n",
    "        choice = input(\"Enter your choice: \") #getting choice    \n",
    "    \n",
    "        if choice in fun_dic.keys():\n",
    "            print(\"X = \",x)\n",
    "            print(\"Y = \",y)\n",
    "            fun_dic[choice](x,y)\n",
    "        elif choice == \"exit\":\n",
    "            print(\"Thanks for using this calculator.\")\n",
    "            break\n",
    "        else:\n",
    "            print(\"Enter correct input.\")\n",
    "            \n",
    "    del choice_instructions, fun_dic, x, y, choice"
   ]
  },
  {
   "cell_type": "markdown",
   "metadata": {},
   "source": [
    "### Q3: create a x tuple of size 6 and type cast it into list and stored result in variable b\n",
    "- in b insert a member at 2nd position"
   ]
  },
  {
   "cell_type": "code",
   "execution_count": null,
   "metadata": {},
   "outputs": [],
   "source": [
    "tpl_x = (1,2,3,4,5,6) #creating a x tuple of size 6\n",
    "b = list(tpl_x) #type casting into list\n",
    "print(b) #displaying the list\n",
    "\n",
    "b.insert(1,2) #inserting element at 2n position or 1 index\n",
    "print(b) #displaying the list after inserting the member"
   ]
  },
  {
   "cell_type": "markdown",
   "metadata": {},
   "source": [
    "### Q4: Write a script to generate & print dictonary via user input, keys must be in numbers and values in strings¶"
   ]
  },
  {
   "cell_type": "code",
   "execution_count": null,
   "metadata": {},
   "outputs": [],
   "source": [
    "dict_len = int((input(\"Enter length of dictionary: \")))\n",
    "\n",
    "dic = dict()\n",
    "\n",
    "for i in range(dict_len):\n",
    "    value = input(f\"Enter Value {i+1}: \")\n",
    "    dic[i+1] = value\n",
    "    \n",
    "print(dic)\n",
    "del dict_len, dic, value"
   ]
  },
  {
   "cell_type": "markdown",
   "metadata": {},
   "source": [
    "### Q5: Write Script that accepts a sentence and calculate the number of letters and digits."
   ]
  },
  {
   "cell_type": "code",
   "execution_count": null,
   "metadata": {},
   "outputs": [],
   "source": [
    "s = input(\"Enter your sentence: \")\n",
    "letters = sum(c.isalpha() for c in s)\n",
    "digits = sum(d.isdigit() for d in s)\n",
    "print(f\"Your sentence have {letters} letter(s).\")\n",
    "print(f\"Your sentence have {digits} digits(s).\")\n",
    "\n",
    "del s, letters, digits"
   ]
  },
  {
   "cell_type": "markdown",
   "metadata": {},
   "source": [
    "### Q6: Write a Script to merge two lists into a dictionary"
   ]
  },
  {
   "cell_type": "code",
   "execution_count": null,
   "metadata": {},
   "outputs": [],
   "source": [
    "list_1 = [1,2,3,4]\n",
    "list_2 = [\"one\",\"two\",\"three\",\"four\"]\n",
    "\n",
    "dic = dict(zip(list_1,list_2))\n",
    "print(dic)\n",
    "\n",
    "del list_1, list_2, dic"
   ]
  },
  {
   "cell_type": "markdown",
   "metadata": {},
   "source": [
    "### Q7:  Script to check validity a password on following points\n",
    "- length b/w 6-15\n",
    "- atleast one Uppercase, lowercase, digit and symbol(@,#,&,%,$)\n",
    "- no space allowed"
   ]
  },
  {
   "cell_type": "code",
   "execution_count": null,
   "metadata": {},
   "outputs": [],
   "source": [
    "def checkSmbl(p):\n",
    "    smbl = ['@','#','&','%','$']\n",
    "    sm = 0\n",
    "    for c in p:\n",
    "        if c in smbl:\n",
    "            sm = sm+1\n",
    "    return sm\n",
    "\n",
    "\n",
    "while True:\n",
    "    p = input(\"Enter your password: \")\n",
    "    ln = 6<=len(p)<=15\n",
    "    upc = sum(u.isupper() for u in p)\n",
    "    low = sum(low.islower() for low in p)\n",
    "    digit = sum(d.isdigit() for d in p)\n",
    "    spaces = sum(s.isspace() for s in p)\n",
    "    smbl = checkSmbl(p)\n",
    "    pas = False    \n",
    "\n",
    "    if ln:\n",
    "        pas = True\n",
    "        if upc:\n",
    "            pas = True\n",
    "            if low:\n",
    "                pas = True\n",
    "                if digit:\n",
    "                    pas = True\n",
    "                    if smbl:\n",
    "                        pas = True\n",
    "                        if spaces != True:\n",
    "                            pas = True\n",
    "                        else:\n",
    "                            pas = False\n",
    "                            print(\"Please remove spaces from password.\")\n",
    "                    else:\n",
    "                        print(\"Put on of these special characters @,#,&,%,$.\")\n",
    "                        pas = False\n",
    "                else:\n",
    "                    pas = False\n",
    "                    print(\"Put a digit.\")\n",
    "            else:\n",
    "                pas = False\n",
    "                print(\"Put a lowercase letter.\")\n",
    "        else:\n",
    "            pas = False\n",
    "            print(\"Put a uppercase letter.\")\n",
    "    else:\n",
    "        pas = False\n",
    "        print(\"Password length should be in between 6 to 15.\")\n",
    "\n",
    "    if pas:\n",
    "        print(\"Password format is okay.\")\n",
    "        break\n",
    "    else:\n",
    "        print(\"Incorrect password format.\")\n",
    "        \n",
    "    del p, ln, upc, low,digit,smbl,pas"
   ]
  },
  {
   "cell_type": "markdown",
   "metadata": {},
   "source": [
    "## Q8: Use a loop to display elements from a given list which are present at even positions"
   ]
  },
  {
   "cell_type": "code",
   "execution_count": null,
   "metadata": {},
   "outputs": [],
   "source": [
    "py_list = [1,2,3,4,5]\n",
    "for element in py_list:\n",
    "    print(element)\n",
    "\n",
    "del py_list"
   ]
  }
 ],
 "metadata": {
  "kernelspec": {
   "display_name": "Python 3",
   "language": "python",
   "name": "python3"
  },
  "language_info": {
   "codemirror_mode": {
    "name": "ipython",
    "version": 3
   },
   "file_extension": ".py",
   "mimetype": "text/x-python",
   "name": "python",
   "nbconvert_exporter": "python",
   "pygments_lexer": "ipython3",
   "version": "3.8.3"
  }
 },
 "nbformat": 4,
 "nbformat_minor": 2
}
