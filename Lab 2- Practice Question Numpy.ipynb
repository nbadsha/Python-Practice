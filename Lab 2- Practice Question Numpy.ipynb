{
 "cells": [
  {
   "cell_type": "markdown",
   "metadata": {},
   "source": [
    "### Import Numpy and use alice name as 'np'."
   ]
  },
  {
   "cell_type": "code",
   "execution_count": 3,
   "metadata": {},
   "outputs": [],
   "source": [
    "import numpy as np"
   ]
  },
  {
   "cell_type": "markdown",
   "metadata": {},
   "source": [
    "## Write a NumPy program to test whether none of the elements of a given array is zero."
   ]
  },
  {
   "cell_type": "code",
   "execution_count": 7,
   "metadata": {},
   "outputs": [
    {
     "name": "stdout",
     "output_type": "stream",
     "text": [
      "Does this Numpy array having none of its elements as zero?  True [5 4 6 7]\n",
      "Does this Numpy array having one of its elements as zero?  False [0 4 6 7]\n"
     ]
    }
   ],
   "source": [
    "np_arr = np.array([5,4,6,7]) # creating NP array with a list of integers\n",
    "# all() method returns True if none of its elements is 0 else returns False\n",
    "print(\"Does this Numpy array having none of its elements as zero? \",np_arr.all(),np_arr)\n",
    "np_arr[0] = 0\n",
    "print(\"Does this Numpy array having one of its elements as zero? \",np_arr.all(),np_arr)"
   ]
  },
  {
   "cell_type": "markdown",
   "metadata": {},
   "source": [
    "## Write a NumPy program to create an array of 5 zeros, 5 ones, 5 fives."
   ]
  },
  {
   "cell_type": "code",
   "execution_count": 10,
   "metadata": {},
   "outputs": [
    {
     "data": {
      "text/plain": [
       "array([0., 0., 0., 0., 0., 1., 1., 1., 1., 1., 5., 5., 5., 5., 5.])"
      ]
     },
     "execution_count": 10,
     "metadata": {},
     "output_type": "execute_result"
    }
   ],
   "source": [
    "zeros = np.zeros(5)\n",
    "ones = np.ones(5)\n",
    "fives = np.ones(5)*5\n",
    "np.concatenate((zeros,ones,fives), axis=0)"
   ]
  },
  {
   "cell_type": "markdown",
   "metadata": {},
   "source": [
    "## Write a NumPy program to generate an array of 15 random numbers from a standard normal distribution"
   ]
  },
  {
   "cell_type": "code",
   "execution_count": 11,
   "metadata": {},
   "outputs": [
    {
     "name": "stdout",
     "output_type": "stream",
     "text": [
      "15 random numbers from a standard normal distribution:\n",
      "[-0.67934724 -0.11889141  1.11941274  0.28954816  0.15586675 -0.20170945\n",
      " -0.11506066 -0.48427136 -1.30198035 -1.65242604  0.68131856 -1.79237667\n",
      " -0.38516601  0.54170829 -0.03730219]\n"
     ]
    }
   ],
   "source": [
    "norm_dist = np.random.normal(0,1,15)\n",
    "print(\"15 random numbers from a standard normal distribution:\")\n",
    "print(norm_dist)"
   ]
  },
  {
   "cell_type": "markdown",
   "metadata": {},
   "source": [
    "## For  following Array\n",
    "- A=[[1,2,3],[5,6,7],[13,14,-8]\n",
    "- B =[[[1,1,1],[2,3,4]],[[2,5,7],[3,8,7]]]\n",
    "Find:\n",
    "    - 1. Mean of second row(A) and mean of first row from first axis(B)\n",
    "    - 2. Reshape array B and save it to a variable C\n",
    "    - 3. Do matrix multiplication of array C and a unity matrix(create shape according to the mul properties)\n",
    "    - 4. create a subset for  row 3 of matrix A and save it in variable d. "
   ]
  },
  {
   "cell_type": "code",
   "execution_count": 20,
   "metadata": {},
   "outputs": [
    {
     "name": "stdout",
     "output_type": "stream",
     "text": [
      "Mean of Second row [5, 6, 7] of A =  6.0\n"
     ]
    },
    {
     "data": {
      "text/plain": [
       "array([[1, 1, 1],\n",
       "       [2, 3, 4],\n",
       "       [2, 5, 7],\n",
       "       [3, 8, 7]])"
      ]
     },
     "execution_count": 20,
     "metadata": {},
     "output_type": "execute_result"
    }
   ],
   "source": [
    "A = [[1,2,3],[5,6,7],[13,14,-8]]\n",
    "B = [[[1,1,1],[2,3,4]],[[2,5,7],[3,8,7]]]\n",
    "\n",
    "print(f\"Mean of Second row {A[1]} of A = \",np.mean(A[1]))\n",
    "\n",
    "C = np.array(B).reshape(4,3)\n",
    "\n",
    "print(C)\n",
    "\n"
   ]
  },
  {
   "cell_type": "markdown",
   "metadata": {},
   "source": [
    "## Write a NumPy program to create a vector with values ranging from 10 to 40 and print all values except the first and last."
   ]
  },
  {
   "cell_type": "code",
   "execution_count": 22,
   "metadata": {},
   "outputs": [
    {
     "name": "stdout",
     "output_type": "stream",
     "text": [
      "Original vector:\n",
      "[10 11 12 13 14 15 16 17 18 19 20 21 22 23 24 25 26 27 28 29 30 31 32 33\n",
      " 34 35 36 37 38 39]\n",
      " \n",
      "Excluding first and last element\n",
      "[11 12 13 14 15 16 17 18 19 20 21 22 23 24 25 26 27 28 29 30 31 32 33 34\n",
      " 35 36 37 38]\n"
     ]
    }
   ],
   "source": [
    "vectors = np.arange(10,40)\n",
    "print(\"Original vector:\")\n",
    "print(vectors)\n",
    "print(\" \\nExcluding first and last element: \")\n",
    "print(vectors[1:-1])"
   ]
  },
  {
   "cell_type": "markdown",
   "metadata": {},
   "source": [
    "## Write a NumPy program to create a vector with values from 1 to 15 and change the sign of the numbers in the range from 10 to 15. "
   ]
  },
  {
   "cell_type": "code",
   "execution_count": 23,
   "metadata": {},
   "outputs": [
    {
     "name": "stdout",
     "output_type": "stream",
     "text": [
      "Original vector:\n",
      "[ 0  1  2  3  4  5  6  7  8  9 10 11 12 13 14]\n",
      "After changing the sign of the numbers in the range from 9 to 15:\n",
      "[  0   1   2   3   4   5   6   7   8   9 -10 -11 -12 -13 -14]\n"
     ]
    }
   ],
   "source": [
    "vectors = np.arange(15)\n",
    "print(\"Original vector:\")\n",
    "print(vectors)\n",
    "print(\"After changing the sign of the numbers in the range from 9 to 15:\")\n",
    "vectors[(vectors >= 10) & (vectors <= 15)] *= -1\n",
    "print(vectors)"
   ]
  },
  {
   "cell_type": "markdown",
   "metadata": {},
   "source": [
    "## Write a NumPy program to create a 3x4 matrix filled with values from 10 to 21"
   ]
  },
  {
   "cell_type": "code",
   "execution_count": 27,
   "metadata": {},
   "outputs": [
    {
     "data": {
      "text/plain": [
       "array([[10, 11, 12, 13],\n",
       "       [14, 15, 16, 17],\n",
       "       [18, 19, 20, 21]])"
      ]
     },
     "execution_count": 27,
     "metadata": {},
     "output_type": "execute_result"
    }
   ],
   "source": [
    "np_arr = np.arange(10,22).reshape(3,4)\n",
    "np_arr"
   ]
  },
  {
   "cell_type": "markdown",
   "metadata": {},
   "source": [
    "## Write a NumPy program to compute the inner product of two given vectors"
   ]
  },
  {
   "cell_type": "code",
   "execution_count": 28,
   "metadata": {},
   "outputs": [
    {
     "name": "stdout",
     "output_type": "stream",
     "text": [
      "Original vectors:\n",
      "[4 5]\n",
      "[ 7 10]\n",
      "Inner product of said vectors:\n",
      "78\n"
     ]
    }
   ],
   "source": [
    "vectors1 = np.array([4, 5])\n",
    "vectors2 = np.array([7, 10])\n",
    "print(\"Original vectors:\")\n",
    "print(vectors1)\n",
    "print(vectors2)\n",
    "print(\"Inner product of said vectors:\")\n",
    "print(np.dot(vectors1, vectors2))"
   ]
  },
  {
   "cell_type": "markdown",
   "metadata": {},
   "source": [
    "## Write a NumPy program to create a structured array from given student name, height, class and their data types. Now sort the array on height."
   ]
  },
  {
   "cell_type": "code",
   "execution_count": 29,
   "metadata": {},
   "outputs": [
    {
     "name": "stdout",
     "output_type": "stream",
     "text": [
      "Original array:\n",
      "[(b'James', 5, 48.5 ) (b'Nail', 6, 52.5 ) (b'Paul', 5, 42.1 )\n",
      " (b'Pit', 5, 40.11)]\n",
      "Sort by height\n",
      "[(b'Pit', 5, 40.11) (b'Paul', 5, 42.1 ) (b'James', 5, 48.5 )\n",
      " (b'Nail', 6, 52.5 )]\n"
     ]
    }
   ],
   "source": [
    "import numpy as np\n",
    "data_type = [('name', 'S15'), ('class', int), ('height', float)]\n",
    "students_details = [('James', 5, 48.5), ('Nail', 6, 52.5),('Paul', 5, 42.10), ('Pit', 5, 40.11)]\n",
    "# create a structured array\n",
    "students = np.array(students_details, dtype=data_type)   \n",
    "print(\"Original array:\")\n",
    "print(students)\n",
    "print(\"Sort by height\")\n",
    "print(np.sort(students, order='height'))    "
   ]
  },
  {
   "cell_type": "markdown",
   "metadata": {},
   "source": [
    "## Write a NumPy program to add, subtract, multiply, divide arguments element-wise. "
   ]
  },
  {
   "cell_type": "code",
   "execution_count": 31,
   "metadata": {},
   "outputs": [
    {
     "name": "stdout",
     "output_type": "stream",
     "text": [
      "Add: 5.0\n",
      "Subtract: -3.0\n",
      "Multiply: 4.0\n",
      "Divide: 0.25\n"
     ]
    }
   ],
   "source": [
    "print(\"Add:\", np.add(1.0, 4.0))\n",
    "print(\"Subtract:\", np.subtract(1.0, 4.0))\n",
    "print(\"Multiply:\", np.multiply(1.0, 4.0))\n",
    "print(\"Divide:\", np.divide(1.0, 4.0))"
   ]
  },
  {
   "cell_type": "markdown",
   "metadata": {},
   "source": [
    " ## Write a NumPy program to get the minimum and maximum value of a given array along the second axis."
   ]
  },
  {
   "cell_type": "code",
   "execution_count": 33,
   "metadata": {},
   "outputs": [
    {
     "name": "stdout",
     "output_type": "stream",
     "text": [
      "\n",
      "Original array:\n",
      "[[ 0  1  2]\n",
      " [ 3  4  5]\n",
      " [ 6  7  8]\n",
      " [ 9 10 11]\n",
      " [12 13 14]]\n",
      "\n",
      "Maximum value along the second axis:\n",
      "[ 2  5  8 11 14]\n",
      "Minimum value along the second axis:\n",
      "[ 0  3  6  9 12]\n"
     ]
    }
   ],
   "source": [
    "np_arr = np.arange(15).reshape((5, 3))\n",
    "print(\"\\nOriginal array:\")\n",
    "print(np_arr)\n",
    "print(\"\\nMaximum value along the second axis:\")\n",
    "print(np.amax(np_arr, 1))\n",
    "print(\"Minimum value along the second axis:\")\n",
    "print(np.amin(np_arr, 1))"
   ]
  },
  {
   "cell_type": "markdown",
   "metadata": {},
   "source": [
    "## Write a NumPy program to display all the dates for the month of May, 2019"
   ]
  },
  {
   "cell_type": "code",
   "execution_count": 34,
   "metadata": {},
   "outputs": [
    {
     "name": "stdout",
     "output_type": "stream",
     "text": [
      "May, 2019\n",
      "['2019-05-01' '2019-05-02' '2019-05-03' '2019-05-04' '2019-05-05'\n",
      " '2019-05-06' '2019-05-07' '2019-05-08' '2019-05-09' '2019-05-10'\n",
      " '2019-05-11' '2019-05-12' '2019-05-13' '2019-05-14' '2019-05-15'\n",
      " '2019-05-16' '2019-05-17' '2019-05-18' '2019-05-19' '2019-05-20'\n",
      " '2019-05-21' '2019-05-22' '2019-05-23' '2019-05-24' '2019-05-25'\n",
      " '2019-05-26' '2019-05-27' '2019-05-28' '2019-05-29' '2019-05-30'\n",
      " '2019-05-31']\n"
     ]
    }
   ],
   "source": [
    "print(\"May, 2019\")\n",
    "print(np.arange('2019-05', '2019-06', dtype='datetime64[D]'))"
   ]
  },
  {
   "cell_type": "markdown",
   "metadata": {},
   "source": [
    "## Write a NumPy program to capitalize the first letter, lowercase, uppercase, swapcase, title-case of all the elements of a given array"
   ]
  },
  {
   "cell_type": "code",
   "execution_count": 35,
   "metadata": {},
   "outputs": [
    {
     "name": "stdout",
     "output_type": "stream",
     "text": [
      "Original Array:\n",
      "['ml' 'PYTHON' 'Data Science' 'Numpy']\n",
      "\n",
      "Capitalized:  ['Ml' 'Python' 'Data science' 'Numpy']\n",
      "Lowered:  ['ml' 'python' 'data science' 'numpy']\n",
      "Uppered:  ['ML' 'PYTHON' 'DATA SCIENCE' 'NUMPY']\n",
      "Swapcased:  ['ML' 'python' 'dATA sCIENCE' 'nUMPY']\n",
      "Titlecased:  ['Ml' 'Python' 'Data Science' 'Numpy']\n"
     ]
    }
   ],
   "source": [
    "import numpy as np\n",
    "x = np.array(['ml', 'PYTHON', 'Data Science', 'Numpy'], dtype=np.str)\n",
    "print(\"Original Array:\")\n",
    "print(x)\n",
    "capitalized_case = np.char.capitalize(x)\n",
    "lowered_case = np.char.lower(x)\n",
    "uppered_case = np.char.upper(x)\n",
    "swapcased_case = np.char.swapcase(x)\n",
    "titlecased_case = np.char.title(x)\n",
    "print(\"\\nCapitalized: \", capitalized_case)\n",
    "print(\"Lowered: \", lowered_case)\n",
    "print(\"Uppered: \", uppered_case)\n",
    "print(\"Swapcased: \", swapcased_case)\n",
    "print(\"Titlecased: \", titlecased_case)"
   ]
  }
 ],
 "metadata": {
  "kernelspec": {
   "display_name": "Python 3",
   "language": "python",
   "name": "python3"
  },
  "language_info": {
   "codemirror_mode": {
    "name": "ipython",
    "version": 3
   },
   "file_extension": ".py",
   "mimetype": "text/x-python",
   "name": "python",
   "nbconvert_exporter": "python",
   "pygments_lexer": "ipython3",
   "version": "3.8.3"
  }
 },
 "nbformat": 4,
 "nbformat_minor": 2
}
